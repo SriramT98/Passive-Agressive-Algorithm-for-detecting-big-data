{
 "cells": [
  {
   "cell_type": "markdown",
   "metadata": {},
   "source": [
    "# Fake News Detection\n"
   ]
  },
  {
   "cell_type": "code",
   "execution_count": 11,
   "metadata": {
    "scrolled": true
   },
   "outputs": [],
   "source": [
    "import numpy as np\n",
    "import pandas as pd\n",
    "import itertools\n",
    "from sklearn.model_selection import train_test_split\n",
    "from sklearn.feature_extraction.text import TfidfVectorizer\n",
    "from sklearn.linear_model import PassiveAggressiveClassifier\n",
    "from sklearn.metrics import accuracy_score, confusion_matrix\n",
    "\n",
    "#Read the data\n",
    "df=pd.read_csv('news.csv')"
   ]
  },
  {
   "cell_type": "markdown",
   "metadata": {},
   "source": [
    "# Reading the Data and DataFrame"
   ]
  },
  {
   "cell_type": "code",
   "execution_count": 13,
   "metadata": {
    "scrolled": false
   },
   "outputs": [
    {
     "data": {
      "text/html": [
       "<div>\n",
       "<style scoped>\n",
       "    .dataframe tbody tr th:only-of-type {\n",
       "        vertical-align: middle;\n",
       "    }\n",
       "\n",
       "    .dataframe tbody tr th {\n",
       "        vertical-align: top;\n",
       "    }\n",
       "\n",
       "    .dataframe thead th {\n",
       "        text-align: right;\n",
       "    }\n",
       "</style>\n",
       "<table border=\"1\" class=\"dataframe\">\n",
       "  <thead>\n",
       "    <tr style=\"text-align: right;\">\n",
       "      <th></th>\n",
       "      <th>Unnamed: 0</th>\n",
       "      <th>title</th>\n",
       "      <th>text</th>\n",
       "      <th>label</th>\n",
       "    </tr>\n",
       "  </thead>\n",
       "  <tbody>\n",
       "    <tr>\n",
       "      <th>0</th>\n",
       "      <td>8476</td>\n",
       "      <td>You Can Smell Hillary’s Fear</td>\n",
       "      <td>Daniel Greenfield, a Shillman Journalism Fello...</td>\n",
       "      <td>FAKE</td>\n",
       "    </tr>\n",
       "    <tr>\n",
       "      <th>1</th>\n",
       "      <td>10294</td>\n",
       "      <td>Watch The Exact Moment Paul Ryan Committed Pol...</td>\n",
       "      <td>Google Pinterest Digg Linkedin Reddit Stumbleu...</td>\n",
       "      <td>FAKE</td>\n",
       "    </tr>\n",
       "    <tr>\n",
       "      <th>2</th>\n",
       "      <td>3608</td>\n",
       "      <td>Kerry to go to Paris in gesture of sympathy</td>\n",
       "      <td>U.S. Secretary of State John F. Kerry said Mon...</td>\n",
       "      <td>REAL</td>\n",
       "    </tr>\n",
       "    <tr>\n",
       "      <th>3</th>\n",
       "      <td>10142</td>\n",
       "      <td>Bernie supporters on Twitter erupt in anger ag...</td>\n",
       "      <td>— Kaydee King (@KaydeeKing) November 9, 2016 T...</td>\n",
       "      <td>FAKE</td>\n",
       "    </tr>\n",
       "    <tr>\n",
       "      <th>4</th>\n",
       "      <td>875</td>\n",
       "      <td>The Battle of New York: Why This Primary Matters</td>\n",
       "      <td>It's primary day in New York and front-runners...</td>\n",
       "      <td>REAL</td>\n",
       "    </tr>\n",
       "  </tbody>\n",
       "</table>\n",
       "</div>"
      ],
      "text/plain": [
       "   Unnamed: 0                                              title  \\\n",
       "0        8476                       You Can Smell Hillary’s Fear   \n",
       "1       10294  Watch The Exact Moment Paul Ryan Committed Pol...   \n",
       "2        3608        Kerry to go to Paris in gesture of sympathy   \n",
       "3       10142  Bernie supporters on Twitter erupt in anger ag...   \n",
       "4         875   The Battle of New York: Why This Primary Matters   \n",
       "\n",
       "                                                text label  \n",
       "0  Daniel Greenfield, a Shillman Journalism Fello...  FAKE  \n",
       "1  Google Pinterest Digg Linkedin Reddit Stumbleu...  FAKE  \n",
       "2  U.S. Secretary of State John F. Kerry said Mon...  REAL  \n",
       "3  — Kaydee King (@KaydeeKing) November 9, 2016 T...  FAKE  \n",
       "4  It's primary day in New York and front-runners...  REAL  "
      ]
     },
     "execution_count": 13,
     "metadata": {},
     "output_type": "execute_result"
    }
   ],
   "source": [
    "#Read the data\n",
    "df=pd.read_csv('news.csv')\n",
    "#Get shape and head\n",
    "df.shape\n",
    "df.head()\n"
   ]
  },
  {
   "cell_type": "markdown",
   "metadata": {},
   "source": [
    "# Getting the labels from the DataFrame."
   ]
  },
  {
   "cell_type": "code",
   "execution_count": 15,
   "metadata": {},
   "outputs": [
    {
     "data": {
      "text/plain": [
       "0    FAKE\n",
       "1    FAKE\n",
       "2    REAL\n",
       "3    FAKE\n",
       "4    REAL\n",
       "Name: label, dtype: object"
      ]
     },
     "execution_count": 15,
     "metadata": {},
     "output_type": "execute_result"
    }
   ],
   "source": [
    " Get the labels\n",
    "labels=df.label\n",
    "labels.head()"
   ]
  },
  {
   "cell_type": "markdown",
   "metadata": {},
   "source": [
    "# Splitting the dataset into training and testing sets."
   ]
  },
  {
   "cell_type": "code",
   "execution_count": 16,
   "metadata": {},
   "outputs": [],
   "source": [
    "#Initialize Train and Test Split\n",
    "x_train,x_test,y_train,y_test=train_test_split(df['text'], labels, test_size=0.2, random_state=7)"
   ]
  },
  {
   "cell_type": "markdown",
   "metadata": {},
   "source": [
    "#  Initialize a TfidfVectorizer \n",
    "\n",
    "Initilaze stop words from the English language and a maximum document frequency of 0.7 (terms with a higher document frequency will be discarded). Stop words are the most common words in a language that are to be filtered out before processing the natural language data. And a TfidfVectorizer turns a collection of raw documents into a matrix of TF-IDF features.\n",
    "\n",
    "Now, fit and transform the vectorizer on the train set, and transform the vectorizer on the test set."
   ]
  },
  {
   "cell_type": "code",
   "execution_count": 17,
   "metadata": {},
   "outputs": [],
   "source": [
    "#Fit and tranform the training set and transform the test set\n",
    "tfidf_vectorizer=TfidfVectorizer(stop_words='english', max_df=0.7)\n",
    "tfidf_train=tfidf_vectorizer.fit_transform(x_train) \n",
    "tfidf_test=tfidf_vectorizer.transform(x_test)"
   ]
  },
  {
   "cell_type": "markdown",
   "metadata": {},
   "source": [
    " # Initialize a Passive Aggressive Classifier. \n",
    " \n",
    "  Fitting this on tfidf_train and y_train."
   ]
  },
  {
   "cell_type": "code",
   "execution_count": 18,
   "metadata": {},
   "outputs": [
    {
     "data": {
      "text/plain": [
       "PassiveAggressiveClassifier(max_iter=50)"
      ]
     },
     "execution_count": 18,
     "metadata": {},
     "output_type": "execute_result"
    }
   ],
   "source": [
    "# Initialize a PassiveAggressiveClassifier\n",
    "pac=PassiveAggressiveClassifier(max_iter=50)\n",
    "pac.fit(tfidf_train,y_train)\n",
    "\n"
   ]
  },
  {
   "cell_type": "markdown",
   "metadata": {},
   "source": [
    "# Predicting on the test set from the TfidfVectorizer \n",
    "\n",
    "calculating the accuracy with accuracy_score() from sklearn.metrics."
   ]
  },
  {
   "cell_type": "code",
   "execution_count": 19,
   "metadata": {},
   "outputs": [
    {
     "name": "stdout",
     "output_type": "stream",
     "text": [
      "Accuracy: 92.66%\n"
     ]
    }
   ],
   "source": [
    "#Predict on the test set and calculate accuracy\n",
    "y_pred=pac.predict(tfidf_test)\n",
    "score=accuracy_score(y_test,y_pred)\n",
    "print(f'Accuracy: {round(score*100,2)}%')"
   ]
  },
  {
   "cell_type": "markdown",
   "metadata": {},
   "source": [
    "# Printing out a confusion matrix \n",
    "\n",
    "Gaining insight into the number of false and true negatives and positives."
   ]
  },
  {
   "cell_type": "code",
   "execution_count": 7,
   "metadata": {},
   "outputs": [
    {
     "data": {
      "text/plain": [
       "array([[589,  49],\n",
       "       [ 39, 590]], dtype=int64)"
      ]
     },
     "execution_count": 7,
     "metadata": {},
     "output_type": "execute_result"
    }
   ],
   "source": [
    "# Build confusion matrix\n",
    "confusion_matrix(y_test,y_pred, labels=['FAKE','REAL'])"
   ]
  },
  {
   "cell_type": "markdown",
   "metadata": {},
   "source": [
    "So with this model, we have 589 true positives, 587 true negatives, 42 false positives, and 49 false negatives"
   ]
  },
  {
   "cell_type": "code",
   "execution_count": 20,
   "metadata": {},
   "outputs": [
    {
     "name": "stdout",
     "output_type": "stream",
     "text": [
      "Collecting jupyter_to_mediumNote: you may need to restart the kernel to use updated packages.\n",
      "\n",
      "  Downloading jupyter_to_medium-0.2.4-py3-none-any.whl (24 kB)\n",
      "Requirement already satisfied: requests in e:\\conda\\lib\\site-packages (from jupyter_to_medium) (2.24.0)\n",
      "Requirement already satisfied: nbconvert in e:\\conda\\lib\\site-packages (from jupyter_to_medium) (6.0.7)\n",
      "Requirement already satisfied: matplotlib>=3.1 in e:\\conda\\lib\\site-packages (from jupyter_to_medium) (3.3.2)\n",
      "Requirement already satisfied: numpy in e:\\conda\\lib\\site-packages (from jupyter_to_medium) (1.19.2)\n",
      "Requirement already satisfied: beautifulsoup4 in e:\\conda\\lib\\site-packages (from jupyter_to_medium) (4.9.3)\n",
      "Requirement already satisfied: idna<3,>=2.5 in e:\\conda\\lib\\site-packages (from requests->jupyter_to_medium) (2.10)\n",
      "Requirement already satisfied: certifi>=2017.4.17 in e:\\conda\\lib\\site-packages (from requests->jupyter_to_medium) (2020.6.20)\n",
      "Requirement already satisfied: chardet<4,>=3.0.2 in e:\\conda\\lib\\site-packages (from requests->jupyter_to_medium) (3.0.4)\n",
      "Requirement already satisfied: urllib3!=1.25.0,!=1.25.1,<1.26,>=1.21.1 in e:\\conda\\lib\\site-packages (from requests->jupyter_to_medium) (1.25.11)\n",
      "Requirement already satisfied: defusedxml in e:\\conda\\lib\\site-packages (from nbconvert->jupyter_to_medium) (0.6.0)\n",
      "Requirement already satisfied: jupyterlab-pygments in e:\\conda\\lib\\site-packages (from nbconvert->jupyter_to_medium) (0.1.2)\n",
      "Requirement already satisfied: jupyter-core in e:\\conda\\lib\\site-packages (from nbconvert->jupyter_to_medium) (4.6.3)\n",
      "Requirement already satisfied: pygments>=2.4.1 in e:\\conda\\lib\\site-packages (from nbconvert->jupyter_to_medium) (2.7.2)\n",
      "Requirement already satisfied: testpath in e:\\conda\\lib\\site-packages (from nbconvert->jupyter_to_medium) (0.4.4)\n",
      "Requirement already satisfied: mistune<2,>=0.8.1 in e:\\conda\\lib\\site-packages (from nbconvert->jupyter_to_medium) (0.8.4)\n",
      "Requirement already satisfied: entrypoints>=0.2.2 in e:\\conda\\lib\\site-packages (from nbconvert->jupyter_to_medium) (0.3)\n",
      "Requirement already satisfied: traitlets>=4.2 in e:\\conda\\lib\\site-packages (from nbconvert->jupyter_to_medium) (5.0.5)\n",
      "Requirement already satisfied: nbformat>=4.4 in e:\\conda\\lib\\site-packages (from nbconvert->jupyter_to_medium) (5.0.8)\n",
      "Requirement already satisfied: nbclient<0.6.0,>=0.5.0 in e:\\conda\\lib\\site-packages (from nbconvert->jupyter_to_medium) (0.5.1)\n",
      "Requirement already satisfied: bleach in e:\\conda\\lib\\site-packages (from nbconvert->jupyter_to_medium) (3.2.1)\n",
      "Requirement already satisfied: pandocfilters>=1.4.1 in e:\\conda\\lib\\site-packages (from nbconvert->jupyter_to_medium) (1.4.3)\n",
      "Requirement already satisfied: jinja2>=2.4 in e:\\conda\\lib\\site-packages (from nbconvert->jupyter_to_medium) (2.11.2)\n",
      "Requirement already satisfied: cycler>=0.10 in e:\\conda\\lib\\site-packages (from matplotlib>=3.1->jupyter_to_medium) (0.10.0)\n",
      "Requirement already satisfied: python-dateutil>=2.1 in e:\\conda\\lib\\site-packages (from matplotlib>=3.1->jupyter_to_medium) (2.8.1)\n",
      "Requirement already satisfied: pillow>=6.2.0 in e:\\conda\\lib\\site-packages (from matplotlib>=3.1->jupyter_to_medium) (8.0.1)\n",
      "Requirement already satisfied: kiwisolver>=1.0.1 in e:\\conda\\lib\\site-packages (from matplotlib>=3.1->jupyter_to_medium) (1.3.0)\n",
      "Requirement already satisfied: pyparsing!=2.0.4,!=2.1.2,!=2.1.6,>=2.0.3 in e:\\conda\\lib\\site-packages (from matplotlib>=3.1->jupyter_to_medium) (2.4.7)\n",
      "Requirement already satisfied: soupsieve>1.2; python_version >= \"3.0\" in e:\\conda\\lib\\site-packages (from beautifulsoup4->jupyter_to_medium) (2.0.1)\n",
      "Requirement already satisfied: pywin32>=1.0; sys_platform == \"win32\" in e:\\conda\\lib\\site-packages (from jupyter-core->nbconvert->jupyter_to_medium) (227)\n",
      "Requirement already satisfied: ipython-genutils in e:\\conda\\lib\\site-packages (from traitlets>=4.2->nbconvert->jupyter_to_medium) (0.2.0)\n",
      "Requirement already satisfied: jsonschema!=2.5.0,>=2.4 in e:\\conda\\lib\\site-packages (from nbformat>=4.4->nbconvert->jupyter_to_medium) (3.2.0)\n",
      "Requirement already satisfied: jupyter-client>=6.1.5 in e:\\conda\\lib\\site-packages (from nbclient<0.6.0,>=0.5.0->nbconvert->jupyter_to_medium) (6.1.7)\n",
      "Requirement already satisfied: nest-asyncio in e:\\conda\\lib\\site-packages (from nbclient<0.6.0,>=0.5.0->nbconvert->jupyter_to_medium) (1.4.2)\n",
      "Requirement already satisfied: async-generator in e:\\conda\\lib\\site-packages (from nbclient<0.6.0,>=0.5.0->nbconvert->jupyter_to_medium) (1.10)\n",
      "Requirement already satisfied: six>=1.9.0 in e:\\conda\\lib\\site-packages (from bleach->nbconvert->jupyter_to_medium) (1.15.0)\n",
      "Requirement already satisfied: packaging in e:\\conda\\lib\\site-packages (from bleach->nbconvert->jupyter_to_medium) (20.4)\n",
      "Requirement already satisfied: webencodings in e:\\conda\\lib\\site-packages (from bleach->nbconvert->jupyter_to_medium) (0.5.1)\n",
      "Requirement already satisfied: MarkupSafe>=0.23 in e:\\conda\\lib\\site-packages (from jinja2>=2.4->nbconvert->jupyter_to_medium) (1.1.1)\n",
      "Requirement already satisfied: setuptools in e:\\conda\\lib\\site-packages (from jsonschema!=2.5.0,>=2.4->nbformat>=4.4->nbconvert->jupyter_to_medium) (50.3.1.post20201107)\n",
      "Requirement already satisfied: attrs>=17.4.0 in e:\\conda\\lib\\site-packages (from jsonschema!=2.5.0,>=2.4->nbformat>=4.4->nbconvert->jupyter_to_medium) (20.3.0)\n",
      "Requirement already satisfied: pyrsistent>=0.14.0 in e:\\conda\\lib\\site-packages (from jsonschema!=2.5.0,>=2.4->nbformat>=4.4->nbconvert->jupyter_to_medium) (0.17.3)\n",
      "Requirement already satisfied: pyzmq>=13 in e:\\conda\\lib\\site-packages (from jupyter-client>=6.1.5->nbclient<0.6.0,>=0.5.0->nbconvert->jupyter_to_medium) (19.0.2)\n",
      "Requirement already satisfied: tornado>=4.1 in e:\\conda\\lib\\site-packages (from jupyter-client>=6.1.5->nbclient<0.6.0,>=0.5.0->nbconvert->jupyter_to_medium) (6.0.4)\n",
      "Installing collected packages: jupyter-to-medium\n",
      "Successfully installed jupyter-to-medium-0.2.4\n"
     ]
    }
   ],
   "source": [
    "pip install jupyter_to_medium"
   ]
  },
  {
   "cell_type": "code",
   "execution_count": null,
   "metadata": {},
   "outputs": [],
   "source": []
  }
 ],
 "metadata": {
  "kernelspec": {
   "display_name": "Python 3",
   "language": "python",
   "name": "python3"
  },
  "language_info": {
   "codemirror_mode": {
    "name": "ipython",
    "version": 3
   },
   "file_extension": ".py",
   "mimetype": "text/x-python",
   "name": "python",
   "nbconvert_exporter": "python",
   "pygments_lexer": "ipython3",
   "version": "3.8.5"
  }
 },
 "nbformat": 4,
 "nbformat_minor": 4
}
